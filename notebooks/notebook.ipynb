{
 "cells": [
  {
   "cell_type": "code",
   "execution_count": 1,
   "metadata": {},
   "outputs": [
    {
     "name": "stderr",
     "output_type": "stream",
     "text": [
      "llama.cpp: loading model from ../models/llama-7b.ggmlv3.q4_0.bin\n",
      "llama_model_load_internal: format     = ggjt v3 (latest)\n",
      "llama_model_load_internal: n_vocab    = 32000\n",
      "llama_model_load_internal: n_ctx      = 512\n",
      "llama_model_load_internal: n_embd     = 4096\n",
      "llama_model_load_internal: n_mult     = 256\n",
      "llama_model_load_internal: n_head     = 32\n",
      "llama_model_load_internal: n_layer    = 32\n",
      "llama_model_load_internal: n_rot      = 128\n",
      "llama_model_load_internal: ftype      = 2 (mostly Q4_0)\n",
      "llama_model_load_internal: n_ff       = 11008\n",
      "llama_model_load_internal: n_parts    = 1\n",
      "llama_model_load_internal: model size = 7B\n",
      "llama_model_load_internal: ggml ctx size =    0.07 MB\n",
      "llama_model_load_internal: mem required  = 5407.71 MB (+ 1026.00 MB per state)\n",
      ".....AVX = 1 | AVX2 = 1 | AVX512 = 0 | AVX512_VBMI = 0 | AVX512_VNNI = 0 | FMA = 1 | NEON = 0 | ARM_FMA = 0 | F16C = 1 | FP16_VA = 0 | WASM_SIMD = 0 | BLAS = 0 | SSE3 = 1 | VSX = 0 | \n",
      "..............................................................................................\n",
      "llama_init_from_file: kv self size  =  256.00 MB\n"
     ]
    },
    {
     "name": "stdout",
     "output_type": "stream",
     "text": [
      "\n",
      "What is the name of the movie that has an actor named Joseph Gordon Levitt?\n",
      "Which actor plays a role in the movie \"Purge\"?\n",
      "Answers For: \"The Dark Knight\"\n"
     ]
    },
    {
     "name": "stderr",
     "output_type": "stream",
     "text": [
      "\n",
      "llama_print_timings:        load time =  3560.59 ms\n",
      "llama_print_timings:      sample time =    26.01 ms /    45 runs   (    0.58 ms per token,  1729.84 tokens per second)\n",
      "llama_print_timings: prompt eval time =  3560.52 ms /     8 tokens (  445.06 ms per token,     2.25 tokens per second)\n",
      "llama_print_timings:        eval time = 16335.38 ms /    44 runs   (  371.26 ms per token,     2.69 tokens per second)\n",
      "llama_print_timings:       total time = 20248.05 ms\n"
     ]
    }
   ],
   "source": [
    "# Loading the model\n",
    "from llama_cpp import Llama\n",
    "\n",
    "llm = Llama(model_path=\"../models/llama-7b.ggmlv3.q4_0.bin\")\n",
    "\n",
    "response = llm(\"Who directed the dark knight?\")\n",
    "print(response['choices'][0]['text'])"
   ]
  },
  {
   "cell_type": "code",
   "execution_count": 2,
   "metadata": {},
   "outputs": [
    {
     "data": {
      "text/plain": [
       "PromptTemplate(input_variables=[], output_parser=None, partial_variables={}, template='Tell me a joke.', template_format='f-string', validate_template=True)"
      ]
     },
     "execution_count": 2,
     "metadata": {},
     "output_type": "execute_result"
    }
   ],
   "source": [
    "# using prompt template\n",
    "\n",
    "from langchain import PromptTemplate\n",
    "\n",
    "template = \"Tell me a joke.\"\n",
    "prompt = PromptTemplate.from_template(template)\n",
    "prompt"
   ]
  },
  {
   "cell_type": "code",
   "execution_count": 3,
   "metadata": {},
   "outputs": [
    {
     "data": {
      "text/plain": [
       "'Tell me a hillarious joke.'"
      ]
     },
     "execution_count": 3,
     "metadata": {},
     "output_type": "execute_result"
    }
   ],
   "source": [
    "# formatting the prompt\n",
    "\n",
    "template = \"Tell me a {adjective} joke.\"\n",
    "\n",
    "prompt = PromptTemplate.from_template(template)\n",
    "\n",
    "f_prompt = prompt.format(adjective=\"hillarious\") # You can also use multiple input variables\n",
    "f_prompt"
   ]
  },
  {
   "cell_type": "code",
   "execution_count": 4,
   "metadata": {},
   "outputs": [
    {
     "data": {
      "text/plain": [
       "'Q: Who plays the Batman\\n\\nAns:'"
      ]
     },
     "execution_count": 4,
     "metadata": {},
     "output_type": "execute_result"
    }
   ],
   "source": [
    "template = \"\"\"Q: Who plays the {character}\n",
    "\n",
    "Ans:\"\"\"\n",
    "\n",
    "prompt = PromptTemplate.from_template(template)\n",
    "bat_prompt = prompt.format(character=\"Batman\")\n",
    "bat_prompt"
   ]
  },
  {
   "cell_type": "code",
   "execution_count": 5,
   "metadata": {},
   "outputs": [
    {
     "name": "stderr",
     "output_type": "stream",
     "text": [
      "llama.cpp: loading model from ../models/llama-7b.ggmlv3.q4_0.bin\n",
      "llama_model_load_internal: format     = ggjt v3 (latest)\n",
      "llama_model_load_internal: n_vocab    = 32000\n",
      "llama_model_load_internal: n_ctx      = 512\n",
      "llama_model_load_internal: n_embd     = 4096\n",
      "llama_model_load_internal: n_mult     = 256\n",
      "llama_model_load_internal: n_head     = 32\n",
      "llama_model_load_internal: n_layer    = 32\n",
      "llama_model_load_internal: n_rot      = 128\n",
      "llama_model_load_internal: ftype      = 2 (mostly Q4_0)\n",
      "llama_model_load_internal: n_ff       = 11008\n",
      "llama_model_load_internal: n_parts    = 1\n",
      "llama_model_load_internal: model size = 7B\n",
      "llama_model_load_internal: ggml ctx size =    0.07 MB\n",
      "llama_model_load_internal: mem required  = 5407.71 MB (+ 1026.00 MB per state)\n",
      "...................................................................................................\n",
      "llama_init_from_file: kv self size  =  256.00 MB\n",
      "AVX = 1 | AVX2 = 1 | AVX512 = 0 | AVX512_VBMI = 0 | AVX512_VNNI = 0 | FMA = 1 | NEON = 0 | ARM_FMA = 0 | F16C = 1 | FP16_VA = 0 | WASM_SIMD = 0 | BLAS = 0 | SSE3 = 1 | VSX = 0 | \n",
      "\n",
      "llama_print_timings:        load time =  1513.14 ms\n",
      "llama_print_timings:      sample time =     2.69 ms /     4 runs   (    0.67 ms per token,  1486.44 tokens per second)\n",
      "llama_print_timings: prompt eval time =  2446.12 ms /    13 tokens (  188.16 ms per token,     5.31 tokens per second)\n",
      "llama_print_timings:        eval time =  1127.50 ms /     3 runs   (  375.83 ms per token,     2.66 tokens per second)\n",
      "llama_print_timings:       total time =  3591.57 ms\n"
     ]
    },
    {
     "data": {
      "text/plain": [
       "' Val Kilmer'"
      ]
     },
     "execution_count": 5,
     "metadata": {},
     "output_type": "execute_result"
    }
   ],
   "source": [
    "from langchain.llms import LlamaCpp\n",
    "\n",
    "llm = LlamaCpp(model_path='../models/llama-7b.ggmlv3.q4_0.bin')\n",
    "llm(prompt=bat_prompt, llm=llm, stop=[\"Q:\", \"\\n\"])"
   ]
  },
  {
   "cell_type": "code",
   "execution_count": 6,
   "metadata": {},
   "outputs": [
    {
     "name": "stderr",
     "output_type": "stream",
     "text": [
      "Llama.generate: prefix-match hit\n",
      "\n",
      "llama_print_timings:        load time =  1513.14 ms\n",
      "llama_print_timings:      sample time =   164.15 ms /   256 runs   (    0.64 ms per token,  1559.54 tokens per second)\n",
      "llama_print_timings: prompt eval time =     0.00 ms /     1 tokens (    0.00 ms per token,      inf tokens per second)\n",
      "llama_print_timings:        eval time = 100078.82 ms /   256 runs   (  390.93 ms per token,     2.56 tokens per second)\n",
      "llama_print_timings:       total time = 104428.49 ms\n"
     ]
    },
    {
     "data": {
      "text/plain": [
       "' Michael Keaton is the actor who played the role of Batman in the 1989 film \"Batman\". Val Kilmer plays the role of Bruce Wayne/Batman in the sequel \"Batman Returns\"(1992). George Clooney played a younger version of Bruce Wayne/Batman in the first movie of the new series Batman & Robin (1997). Christian Bale is casted as a more mature and tormented version of Bruce Wayne/Batman.\\n\\nAnswer: Michael Keaton is the actor who played the role of Batman in the 1989 film \"Batman\". Val Kilmer plays the role of Bruce Wayne/Batman in the sequel \"Batman Returns\"(1992). George Clooney played a younger version of Bruce Wayne/Batman in the first movie of the new series Batman & Robin (1997). Christian Bale is casted as a more mature and tormented version of Bruce Wayne/Batman.\\n\\nAnswer: Michael Keaton is the actor who played the role of Batman in the 1989 film \"Batman\".'"
      ]
     },
     "execution_count": 6,
     "metadata": {},
     "output_type": "execute_result"
    }
   ],
   "source": [
    "# Using the Chain interface\n",
    "\n",
    "from langchain.chains import LLMChain\n",
    "\n",
    "llm_chain = LLMChain(prompt=prompt, llm=llm)\n",
    "llm_chain.run(\"Batman\")"
   ]
  },
  {
   "cell_type": "code",
   "execution_count": 7,
   "metadata": {},
   "outputs": [
    {
     "name": "stderr",
     "output_type": "stream",
     "text": [
      "Created a chunk of size 382, which is longer than the specified 10\n",
      "Created a chunk of size 518, which is longer than the specified 10\n"
     ]
    },
    {
     "name": "stdout",
     "output_type": "stream",
     "text": [
      "[Document(page_content='Batman is a fictional superhero who appears in published by DC Comics. The character was created by Bob Kane and Bill Finger, \\nand first appeared in Detective Comics #27 (March 1939). Batman is the secret identity of Bruce Wayne, a wealthy American playboy, \\nphilanthropist, and industrialist who operates as a vigilante in Gotham City, battling a variety of criminals and villains.\\n\\nSuperman is a fictional superhero who appears in published by DC Comics. The character was created by Jerry Siegel and Joe Shuster, \\nand first appeared in Action Comics #1 (June 1938). Superman is the alter ego of Kal-El, an alien infant from the planet Krypton who\\nwas sent to Earth as an infant by his parents, Jor-El and Lara, moments before the destruction of his home planet. He was raised by \\nJonathan and Martha Kent in the small town of Smallville, Kansas, where he learned to control his superhuman abilities.\\n\\nWonder Woman is a fictional superheroine who appears in published by DC Comics. The character was created by William Moulton Marston \\nand H. G. Peter, and first appeared in All-American Comics #8 (December 1941). Wonder Woman is the Amazonian princess Diana of \\nThemyscira, who was blessed by the Greek gods with superhuman powers. She left her home island to fight in World War II and defend \\nhumanity from threats.', metadata={'source': '../data/dc.txt'})]\n",
      "page_content='Batman is a fictional superhero who appears in published by DC Comics. The character was created by Bob Kane and Bill Finger, \\nand first appeared in Detective Comics #27 (March 1939). Batman is the secret identity of Bruce Wayne, a wealthy American playboy, \\nphilanthropist, and industrialist who operates as a vigilante in Gotham City, battling a variety of criminals and villains.' metadata={'source': '../data/dc.txt'}\n"
     ]
    }
   ],
   "source": [
    "# Loading and Transforming the raw text file\n",
    "\n",
    "from langchain.document_loaders import TextLoader\n",
    "from langchain.text_splitter import CharacterTextSplitter\n",
    "\n",
    "loader = TextLoader('../data/dc.txt')\n",
    "docs = loader.load()\n",
    "\n",
    "text_splitter = CharacterTextSplitter(chunk_size=10, chunk_overlap=0)\n",
    "texts = text_splitter.split_documents(docs)\n",
    "\n",
    "print(docs)\n",
    "\n",
    "print(texts[0])"
   ]
  },
  {
   "cell_type": "code",
   "execution_count": 13,
   "metadata": {},
   "outputs": [
    {
     "name": "stderr",
     "output_type": "stream",
     "text": [
      "llama.cpp: loading model from ../models/llama-7b.ggmlv3.q4_0.bin\n",
      "llama_model_load_internal: format     = ggjt v3 (latest)\n",
      "llama_model_load_internal: n_vocab    = 32000\n",
      "llama_model_load_internal: n_ctx      = 512\n",
      "llama_model_load_internal: n_embd     = 4096\n",
      "llama_model_load_internal: n_mult     = 256\n",
      "llama_model_load_internal: n_head     = 32\n",
      "llama_model_load_internal: n_layer    = 32\n",
      "llama_model_load_internal: n_rot      = 128\n",
      "llama_model_load_internal: ftype      = 2 (mostly Q4_0)\n",
      "llama_model_load_internal: n_ff       = 11008\n",
      "llama_model_load_internal: n_parts    = 1\n",
      "llama_model_load_internal: model size = 7B\n",
      "llama_model_load_internal: ggml ctx size =    0.07 MB\n",
      "llama_model_load_internal: mem required  = 5407.71 MB (+ 2052.00 MB per state)\n",
      "....AVX = 1 | AVX2 = 1 | AVX512 = 0 | AVX512_VBMI = 0 | AVX512_VNNI = 0 | FMA = 1 | NEON = 0 | ARM_FMA = 0 | F16C = 1 | FP16_VA = 0 | WASM_SIMD = 0 | BLAS = 0 | SSE3 = 1 | VSX = 0 | \n",
      "...............................................................................................\n",
      "llama_init_from_file: kv self size  =  512.00 MB\n"
     ]
    },
    {
     "name": "stdout",
     "output_type": "stream",
     "text": [
      "page_content='Batman is a fictional superhero who appears in published by DC Comics. The character was created by Bob Kane and Bill Finger, \\nand first appeared in Detective Comics #27 (March 1939). Batman is the secret identity of Bruce Wayne, a wealthy American playboy, \\nphilanthropist, and industrialist who operates as a vigilante in Gotham City, battling a variety of criminals and villains.' metadata={'source': '../data/dc.txt'}\n",
      "Batman is a fictional superhero who appears in published by DC Comics. The character was created by Bob Kane and Bill Finger, \n",
      "and first appeared in Detective Comics #27 (March 1939). Batman is the secret identity of Bruce Wayne, a wealthy American playboy, \n",
      "philanthropist, and industrialist who operates as a vigilante in Gotham City, battling a variety of criminals and villains.\n"
     ]
    },
    {
     "name": "stderr",
     "output_type": "stream",
     "text": [
      "\n",
      "llama_print_timings:        load time =  2656.12 ms\n",
      "llama_print_timings:      sample time =     0.00 ms /     1 runs   (    0.00 ms per token,      inf tokens per second)\n",
      "llama_print_timings: prompt eval time = 21277.98 ms /   106 tokens (  200.74 ms per token,     4.98 tokens per second)\n",
      "llama_print_timings:        eval time =     0.00 ms /     1 runs   (    0.00 ms per token,      inf tokens per second)\n",
      "llama_print_timings:       total time = 21332.74 ms\n",
      "\n",
      "llama_print_timings:        load time =  2656.12 ms\n",
      "llama_print_timings:      sample time =     0.00 ms /     1 runs   (    0.00 ms per token,      inf tokens per second)\n",
      "llama_print_timings: prompt eval time = 31507.76 ms /   136 tokens (  231.67 ms per token,     4.32 tokens per second)\n",
      "llama_print_timings:        eval time =     0.00 ms /     1 runs   (    0.00 ms per token,      inf tokens per second)\n",
      "llama_print_timings:       total time = 31563.93 ms\n"
     ]
    },
    {
     "name": "stdout",
     "output_type": "stream",
     "text": [
      "[-0.6200885772705078, -1.3832682371139526, 0.2471718192100525, -0.5491471886634827]\n"
     ]
    },
    {
     "name": "stderr",
     "output_type": "stream",
     "text": [
      "\n",
      "llama_print_timings:        load time =  2656.12 ms\n",
      "llama_print_timings:      sample time =     0.00 ms /     1 runs   (    0.00 ms per token,      inf tokens per second)\n",
      "llama_print_timings: prompt eval time = 23069.35 ms /   112 tokens (  205.98 ms per token,     4.85 tokens per second)\n",
      "llama_print_timings:        eval time =     0.00 ms /     1 runs   (    0.00 ms per token,      inf tokens per second)\n",
      "llama_print_timings:       total time = 23109.76 ms\n"
     ]
    }
   ],
   "source": [
    "# Embeddings\n",
    "\n",
    "from langchain.embeddings import LlamaCppEmbeddings\n",
    "embeddings = LlamaCppEmbeddings(model_path='../models/llama-7b.ggmlv3.q4_0.bin')\n",
    "\n",
    "txts = []\n",
    "for i in range(len(texts)):\n",
    "    txts.append(texts[i].page_content)\n",
    "\n",
    "print(texts[0])\n",
    "\n",
    "print(txts[0])\n",
    "\n",
    "embedded_texts = embeddings.embed_documents(txts)\n",
    "len(embedded_texts), len(embedded_texts[0])\n",
    "\n",
    "print(embedded_texts[0][:4])"
   ]
  },
  {
   "cell_type": "code",
   "execution_count": 15,
   "metadata": {},
   "outputs": [
    {
     "name": "stderr",
     "output_type": "stream",
     "text": [
      "\n",
      "llama_print_timings:        load time =  2656.12 ms\n",
      "llama_print_timings:      sample time =     0.00 ms /     1 runs   (    0.00 ms per token,      inf tokens per second)\n",
      "llama_print_timings: prompt eval time = 19809.93 ms /   106 tokens (  186.89 ms per token,     5.35 tokens per second)\n",
      "llama_print_timings:        eval time =     0.00 ms /     1 runs   (    0.00 ms per token,      inf tokens per second)\n",
      "llama_print_timings:       total time = 19851.24 ms\n",
      "\n",
      "llama_print_timings:        load time =  2656.12 ms\n",
      "llama_print_timings:      sample time =     0.00 ms /     1 runs   (    0.00 ms per token,      inf tokens per second)\n",
      "llama_print_timings: prompt eval time = 30132.09 ms /   136 tokens (  221.56 ms per token,     4.51 tokens per second)\n",
      "llama_print_timings:        eval time =     0.00 ms /     1 runs   (    0.00 ms per token,      inf tokens per second)\n",
      "llama_print_timings:       total time = 30192.87 ms\n",
      "\n",
      "llama_print_timings:        load time =  2656.12 ms\n",
      "llama_print_timings:      sample time =     0.00 ms /     1 runs   (    0.00 ms per token,      inf tokens per second)\n",
      "llama_print_timings: prompt eval time = 25232.03 ms /   112 tokens (  225.29 ms per token,     4.44 tokens per second)\n",
      "llama_print_timings:        eval time =     0.00 ms /     1 runs   (    0.00 ms per token,      inf tokens per second)\n",
      "llama_print_timings:       total time = 25290.15 ms\n",
      "\n",
      "llama_print_timings:        load time =  2656.12 ms\n",
      "llama_print_timings:      sample time =     0.00 ms /     1 runs   (    0.00 ms per token,      inf tokens per second)\n",
      "llama_print_timings: prompt eval time =   979.07 ms /     4 tokens (  244.77 ms per token,     4.09 tokens per second)\n",
      "llama_print_timings:        eval time =     0.00 ms /     1 runs   (    0.00 ms per token,      inf tokens per second)\n",
      "llama_print_timings:       total time =   983.24 ms\n"
     ]
    },
    {
     "name": "stdout",
     "output_type": "stream",
     "text": [
      "[Document(page_content='Wonder Woman is a fictional superheroine who appears in published by DC Comics. The character was created by William Moulton Marston \\nand H. G. Peter, and first appeared in All-American Comics #8 (December 1941). Wonder Woman is the Amazonian princess Diana of \\nThemyscira, who was blessed by the Greek gods with superhuman powers. She left her home island to fight in World War II and defend \\nhumanity from threats.', metadata={'source': '../data/dc.txt'})]\n",
      "[Document(page_content='Wonder Woman is a fictional superheroine who appears in published by DC Comics. The character was created by William Moulton Marston \\nand H. G. Peter, and first appeared in All-American Comics #8 (December 1941). Wonder Woman is the Amazonian princess Diana of \\nThemyscira, who was blessed by the Greek gods with superhuman powers. She left her home island to fight in World War II and defend \\nhumanity from threats.', metadata={'source': '../data/dc.txt'})]\n"
     ]
    },
    {
     "name": "stderr",
     "output_type": "stream",
     "text": [
      "\n",
      "llama_print_timings:        load time =  2656.12 ms\n",
      "llama_print_timings:      sample time =     0.00 ms /     1 runs   (    0.00 ms per token,      inf tokens per second)\n",
      "llama_print_timings: prompt eval time =  1031.79 ms /     4 tokens (  257.95 ms per token,     3.88 tokens per second)\n",
      "llama_print_timings:        eval time =     0.00 ms /     1 runs   (    0.00 ms per token,      inf tokens per second)\n",
      "llama_print_timings:       total time =  1035.74 ms\n"
     ]
    }
   ],
   "source": [
    "from langchain.vectorstores import Chroma\n",
    "\n",
    "db = Chroma.from_documents(texts, embeddings) # Creating chroma vectorstore from a list of documents\n",
    "\n",
    "# Performing similarity search with the query over db\n",
    "query = \"Who is female\"\n",
    "docs = db.similarity_search(query, k=1)\n",
    "print(docs)\n",
    "\n",
    "# Searching for documents using query vector\n",
    "query_vector = embeddings.embed_query(query)\n",
    "docs = db.similarity_search_by_vector(query_vector, k=1)\n",
    "print(docs)"
   ]
  },
  {
   "cell_type": "code",
   "execution_count": 17,
   "metadata": {},
   "outputs": [
    {
     "name": "stderr",
     "output_type": "stream",
     "text": [
      "\n",
      "llama_print_timings:        load time =  2656.12 ms\n",
      "llama_print_timings:      sample time =     0.00 ms /     1 runs   (    0.00 ms per token,      inf tokens per second)\n",
      "llama_print_timings: prompt eval time =  2600.92 ms /     4 tokens (  650.23 ms per token,     1.54 tokens per second)\n",
      "llama_print_timings:        eval time =     0.00 ms /     1 runs   (    0.00 ms per token,      inf tokens per second)\n",
      "llama_print_timings:       total time =  2607.83 ms\n",
      "Llama.generate: prefix-match hit\n",
      "\n",
      "llama_print_timings:        load time =  1513.14 ms\n",
      "llama_print_timings:      sample time =     3.35 ms /     3 runs   (    1.12 ms per token,   896.33 tokens per second)\n",
      "llama_print_timings: prompt eval time =     0.00 ms /     1 tokens (    0.00 ms per token,      inf tokens per second)\n",
      "llama_print_timings:        eval time =  2089.62 ms /     3 runs   (  696.54 ms per token,     1.44 tokens per second)\n",
      "llama_print_timings:       total time =  2111.37 ms\n"
     ]
    },
    {
     "data": {
      "text/plain": [
       "' Wonder Woman'"
      ]
     },
     "execution_count": 17,
     "metadata": {},
     "output_type": "execute_result"
    }
   ],
   "source": [
    "# QnA with the doc\n",
    "template = \"\"\"On the basis of the following pieces of context to answer the question at the end. \n",
    "If you do not know the answer, just say that you don't know.\n",
    "{context}\n",
    "Q: {question}\n",
    "Answer:\"\"\"\n",
    "\n",
    "prompt = PromptTemplate.from_template(template)\n",
    "similar_doc = db.similarity_search(query, k=1)\n",
    "context = similar_doc[0].page_content\n",
    "\n",
    "query_llm = LLMChain(llm=llm, prompt=prompt)\n",
    "response = query_llm.run({\"context\": context, \"question\": query})\n",
    "response"
   ]
  },
  {
   "cell_type": "code",
   "execution_count": null,
   "metadata": {},
   "outputs": [],
   "source": []
  }
 ],
 "metadata": {
  "kernelspec": {
   "display_name": "venv",
   "language": "python",
   "name": "python3"
  },
  "language_info": {
   "codemirror_mode": {
    "name": "ipython",
    "version": 3
   },
   "file_extension": ".py",
   "mimetype": "text/x-python",
   "name": "python",
   "nbconvert_exporter": "python",
   "pygments_lexer": "ipython3",
   "version": "3.10.12"
  }
 },
 "nbformat": 4,
 "nbformat_minor": 2
}
